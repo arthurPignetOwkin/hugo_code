{
 "cells": [
  {
   "cell_type": "code",
   "execution_count": 10,
   "metadata": {},
   "outputs": [],
   "source": [
    "# import \n",
    "\n",
    "import pandas as pd\n",
    "from pathlib import Path \n",
    "import numpy as np\n",
    "from sklearn.model_selection import train_test_split\n",
    "\n",
    "from sklearn.datasets import make_regression\n",
    "from sklearn.preprocessing import StandardScaler\n",
    "import jax\n",
    "import jax.numpy as jnp\n",
    "from jax import grad"
   ]
  },
  {
   "cell_type": "code",
   "execution_count": 12,
   "metadata": {},
   "outputs": [],
   "source": [
    "# data loading\n",
    "classification_all = pd.read_csv(Path(f'/Users/hhudson/Downloads/classification_data_all.csv'))\n",
    "X, Y = make_regression(n_features=20, n_samples=1000)\n",
    "x_train, x_val, y_train, y_val = train_test_split(X,Y, test_size=0.15)\n",
    "realx_train, realx_val, realy_train, realy_val = train_test_split(X,Y, test_size=0.15)"
   ]
  },
  {
   "cell_type": "code",
   "execution_count": 19,
   "metadata": {},
   "outputs": [],
   "source": [
    "\n",
    "# function def\n",
    "\n",
    "def init(rng, n_features, n_output, n_neurons_per_layers):\n",
    "    params = []\n",
    "    \n",
    "    n_neurons_pre = n_features\n",
    "    for n_neurons in n_neurons_per_layers:\n",
    "        rng, rng_ = jax.random.split(rng)\n",
    "        params.append(jax.random.normal(rng_, shape=(n_neurons_pre,n_neurons))*0.1)\n",
    "        n_neurons_pre = n_neurons\n",
    "    \n",
    "    rng, rng_ = jax.random.split(rng)\n",
    "    params.append(jax.random.normal(rng_, shape=(n_output,n_neurons_pre))*0.1)\n",
    "\n",
    "    return params\n",
    "\n",
    "def model(params, x):\n",
    "\n",
    "    a = x\n",
    "    for w in params[:-1]:\n",
    "        z = a@w\n",
    "        a = jax.nn.relu(z)\n",
    "\n",
    "    return jnp.vdot(a, params[-1])\n",
    "\n",
    "def loss(params, batch_x, batch_y):\n",
    "    \n",
    "    def squared_error(x,y):\n",
    "        return (y-model(params, x))**2\n",
    "\n",
    "    return jnp.mean(jax.vmap(squared_error)(batch_x, batch_y))\n",
    "\n",
    "grad_loss = jax.jit(jax.grad(loss, argnums=(0,)))\n",
    "\n",
    "@jax.jit\n",
    "def update_params(params, grads, learning_rate):\n",
    "    new_params = []\n",
    "    for grad, w in zip(grads[0], params):\n",
    "        new_params.append(w - learning_rate * grad)\n",
    "    return new_params"
   ]
  },
  {
   "cell_type": "code",
   "execution_count": 4,
   "metadata": {},
   "outputs": [],
   "source": [
    "# training\n",
    "\n",
    "max_epoch = 10\n",
    "loss_train = []\n",
    "loss_val = []\n",
    "batch_size = 16\n",
    "learning_rate = np.array(0.0003)\n",
    "\n",
    "rng = jax.random.PRNGKey(0)\n",
    "params =  init(rng, n_features=X.shape[1], n_output=1, n_neurons_per_layers = [32, 32])\n",
    "list_idx = np.arange(x_train.shape[0])\n",
    "\n",
    "for epoch in range(max_epoch):\n",
    "    np.random.shuffle(list_idx)\n",
    "    for i in range(len(list_idx)//batch_size):\n",
    "        batch_idx = list_idx[batch_size*i:batch_size*(i+1)]\n",
    "        grad = grad_loss(params, x_train[batch_idx, :],y_train[batch_idx])\n",
    "        params = update_params(params, grad, learning_rate=learning_rate)\n",
    "    #log\n",
    "    loss_train.append(loss(params, x_train,y_train))\n",
    "    loss_val.append(loss(params,x_val,y_val ))"
   ]
  },
  {
   "cell_type": "code",
   "execution_count": 5,
   "metadata": {},
   "outputs": [
    {
     "data": {
      "text/plain": [
       "<matplotlib.legend.Legend at 0x7f7c89549a90>"
      ]
     },
     "execution_count": 5,
     "metadata": {},
     "output_type": "execute_result"
    },
    {
     "data": {
      "image/png": "[encoded data removed]",
      "text/plain": [
       "<Figure size 640x480 with 1 Axes>"
      ]
     },
     "metadata": {},
     "output_type": "display_data"
    }
   ],
   "source": [
    "# plot\n",
    "\n",
    "import matplotlib.pyplot as plt\n",
    "plt.plot(loss_train, label='train')\n",
    "plt.plot(loss_val, label='val')\n",
    "plt.legend(loc='best')"
   ]
  },
  {
   "cell_type": "code",
   "execution_count": 21,
   "metadata": {},
   "outputs": [],
   "source": [
    "class NeuralNetwork:\n",
    "\n",
    "    def __init__(self, rng, n_features, n_output, n_neurons_per_layers):\n",
    "        self.n_features = n_features\n",
    "        self.n_output = n_output\n",
    "        self.n_neurons_per_layers = n_neurons_per_layers\n",
    "        self.params = []\n",
    "        n_neurons_pre = self.n_features\n",
    "        for n_neurons in self.n_neurons_per_layers:\n",
    "            rng, rng_ = jax.randomsplit(rng)\n",
    "            self.params.append(jax.random.normal(rng_, shape=(n_neurons_pre, n_neurons))*0.1)\n",
    "            n_neurons_pre = n_neurons\n",
    "        rng, rng_ = jax.random.split(rng)\n",
    "        self.params.append(jax.random.normal(rng_, shape=(n_output, n_neurons_pre))*0.1)\n",
    "\n",
    "    def model(self, x):\n",
    "        a = x\n",
    "        for w in self.params[:-1]:\n",
    "            z = a@w\n",
    "            a = jax.nn.relu(z)\n",
    "\n",
    "        return jnp.vdot(a, params[-1])\n",
    "    \n",
    "    def loss(self, batch_x, batch_y):\n",
    "        def squared_error(x,y):\n",
    "            return (y - self.model(x))**2\n",
    "        \n",
    "        return jnp.mean(jax.vmap(squared_error)(batch_x, batch_y))\n",
    "    \n",
    "    def grad_loss(self):\n",
    "        return jax.jit(jax.grad(loss, argnums=(0,)))\n",
    "    \n",
    "    def update_params(self, grads, learning_rate):\n",
    "        new_params = []\n",
    "        for grad, w in zip(grads[0], params):\n",
    "            new_params.append(w - learning_rate * grad)\n",
    "        return new_params"
   ]
  },
  {
   "cell_type": "code",
   "execution_count": 20,
   "metadata": {},
   "outputs": [],
   "source": [
    "NN = NeuralNetwork(rng, n_features=realx_train.shape[1], n_output=1, n_neurons_per_layers = [32, 32])\n",
    "NN.model(realx_train)\n",
    "NN.loss()\n",
    "NN.update_params(grads= , learning_rate=0.01)"
   ]
  }
 ],
 "metadata": {
  "kernelspec": {
   "display_name": "owkin1",
   "language": "python",
   "name": "python3"
  },
  "language_info": {
   "codemirror_mode": {
    "name": "ipython",
    "version": 3
   },
   "file_extension": ".py",
   "mimetype": "text/x-python",
   "name": "python",
   "nbconvert_exporter": "python",
   "pygments_lexer": "ipython3",
   "version": "3.9.16"
  },
  "orig_nbformat": 4
 },
 "nbformat": 4,
 "nbformat_minor": 2
}
