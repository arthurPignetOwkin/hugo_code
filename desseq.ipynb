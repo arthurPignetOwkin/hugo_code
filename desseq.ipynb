{
 "cells": [
  {
   "cell_type": "code",
   "execution_count": 12,
   "metadata": {},
   "outputs": [],
   "source": [
    "import os\n",
    "import pickle as pkl\n",
    "\n",
    "from pydeseq2.dds import DeseqDataSet\n",
    "from pydeseq2.ds import DeseqStats\n",
    "from pydeseq2.utils import load_example_data\n",
    "\n",
    "SAVE = False  # whether to save the outputs of this notebook\n",
    "\n",
    "if SAVE:\n",
    "    # Replace this with the path to directory where you would like results to be saved\n",
    "    OUTPUT_PATH = \"../output_files/synthetic_example\"\n",
    "    os.makedirs(OUTPUT_PATH, exist_ok=True)  # Create path if it doesn't exist"
   ]
  },
  {
   "cell_type": "code",
   "execution_count": 2,
   "metadata": {},
   "outputs": [
    {
     "name": "stdout",
     "output_type": "stream",
     "text": [
      "           gene1  gene2  gene3  gene4  gene5  gene6  gene7  gene8  gene9  \\\n",
      "sample1       12     21      4    130     18      0     16     54     49   \n",
      "sample2        1     44      2     63     11     10     70     32     57   \n",
      "sample3        4      4     11    180     21      3     28     34     65   \n",
      "sample4        1     10      2    100     44      9     28     16     33   \n",
      "sample5        1     11      6    135     16      2     32     29     31   \n",
      "...          ...    ...    ...    ...    ...    ...    ...    ...    ...   \n",
      "sample96       7     26      3     67     11      4     41     44     54   \n",
      "sample97       1     14      3     71     33      5     19     42     25   \n",
      "sample98      10     36      2     72     11      2     66     27     16   \n",
      "sample99      18     14      3     66     53     11     32     19     79   \n",
      "sample100     21      9      3     42     13     13     19     78     30   \n",
      "\n",
      "           gene10  \n",
      "sample1         3  \n",
      "sample2         9  \n",
      "sample3         2  \n",
      "sample4         9  \n",
      "sample5         5  \n",
      "...           ...  \n",
      "sample96        1  \n",
      "sample97        4  \n",
      "sample98        9  \n",
      "sample99       11  \n",
      "sample100       5  \n",
      "\n",
      "[100 rows x 10 columns]\n",
      "          condition group\n",
      "sample1           A     X\n",
      "sample2           A     Y\n",
      "sample3           A     X\n",
      "sample4           A     Y\n",
      "sample5           A     X\n",
      "...             ...   ...\n",
      "sample96          B     Y\n",
      "sample97          B     X\n",
      "sample98          B     Y\n",
      "sample99          B     X\n",
      "sample100         B     Y\n",
      "\n",
      "[100 rows x 2 columns]\n"
     ]
    }
   ],
   "source": [
    "counts_df = load_example_data(\n",
    "    modality=\"raw_counts\",\n",
    "    dataset=\"synthetic\",\n",
    "    debug=False,\n",
    ")\n",
    "\n",
    "clinical_df = load_example_data(\n",
    "    modality=\"clinical\",\n",
    "    dataset=\"synthetic\",\n",
    "    debug=False,\n",
    ")\n",
    "\n",
    "print(counts_df)\n",
    "\n",
    "# %%\n",
    "print(clinical_df)"
   ]
  },
  {
   "cell_type": "code",
   "execution_count": 3,
   "metadata": {},
   "outputs": [],
   "source": [
    "samples_to_keep = ~clinical_df.condition.isna()\n",
    "counts_df = counts_df.loc[samples_to_keep]\n",
    "clinical_df = clinical_df.loc[samples_to_keep]\n"
   ]
  },
  {
   "cell_type": "code",
   "execution_count": 4,
   "metadata": {},
   "outputs": [],
   "source": [
    "genes_to_keep = counts_df.columns[counts_df.sum(axis=0) >= 10]\n",
    "counts_df = counts_df[genes_to_keep]"
   ]
  },
  {
   "cell_type": "code",
   "execution_count": 5,
   "metadata": {},
   "outputs": [],
   "source": [
    "dds = DeseqDataSet(\n",
    "    counts=counts_df,\n",
    "    clinical=clinical_df,\n",
    "    design_factors=\"condition\",\n",
    "    refit_cooks=True,\n",
    "    n_cpus=8,\n",
    ")"
   ]
  },
  {
   "cell_type": "code",
   "execution_count": 6,
   "metadata": {},
   "outputs": [
    {
     "name": "stdout",
     "output_type": "stream",
     "text": [
      "Fitting size factors...\n",
      "... done in 0.00 seconds.\n",
      "\n",
      "Fitting dispersions...\n",
      "... done in 0.03 seconds.\n",
      "\n",
      "Fitting dispersion trend curve...\n",
      "... done in 0.04 seconds.\n",
      "\n",
      "Fitting MAP dispersions...\n",
      "... done in 0.01 seconds.\n",
      "\n",
      "Fitting LFCs...\n",
      "... done in 0.02 seconds.\n",
      "\n",
      "Refitting 0 outliers.\n",
      "\n",
      "AnnData object with n_obs × n_vars = 100 × 10\n",
      "    obs: 'condition', 'group'\n",
      "    uns: 'trend_coeffs', '_squared_logres', 'prior_disp_var'\n",
      "    obsm: 'design_matrix', 'size_factors', 'replaceable'\n",
      "    varm: 'non_zero', '_rough_dispersions', 'genewise_dispersions', '_genewise_converged', '_normed_means', 'fitted_dispersions', 'MAP_dispersions', '_MAP_converged', 'dispersions', '_outlier_genes', 'LFC', '_LFC_converged', 'replaced'\n",
      "    layers: 'normed_counts', '_mu_hat', '_mu_LFC', '_hat_diagonals', 'cooks'\n"
     ]
    }
   ],
   "source": [
    "dds.deseq2()\n",
    "\n",
    "\n",
    "if SAVE:\n",
    "    with open(os.path.join(OUTPUT_PATH, \"dds.pkl\"), \"wb\") as f:\n",
    "        pkl.dump(dds, f)\n",
    "\n",
    "# %%\n",
    "# The :class:`DeseqDataSet` class extends the\n",
    "# :class:`AnnData <anndata.AnnData>`\n",
    "# class.\n",
    "\n",
    "print(dds)"
   ]
  },
  {
   "cell_type": "code",
   "execution_count": 7,
   "metadata": {},
   "outputs": [
    {
     "name": "stdout",
     "output_type": "stream",
     "text": [
      "[0.88259868 0.22257863 0.83723801 0.15897048 0.24992589 0.97364795\n",
      " 0.23515487 0.19878078 0.1865203  0.63189989]\n",
      "        intercept  condition_B_vs_A\n",
      "gene1    1.891436          0.438632\n",
      "gene2    2.851662          0.373296\n",
      "gene3    1.787780         -0.438645\n",
      "gene4    4.741958         -0.285647\n",
      "gene5    3.077798          0.403457\n",
      "gene6    1.678536          0.001010\n",
      "gene7    3.291025          0.093116\n",
      "gene8    3.785129         -0.187604\n",
      "gene9    3.682882         -0.147443\n",
      "gene10   2.300515          0.267562\n"
     ]
    }
   ],
   "source": [
    "print(dds.varm[\"dispersions\"])\n",
    "\n",
    "# %%\n",
    "\n",
    "print(dds.varm[\"LFC\"])"
   ]
  },
  {
   "cell_type": "code",
   "execution_count": 8,
   "metadata": {},
   "outputs": [],
   "source": [
    "stat_res = DeseqStats(dds, n_cpus=8)"
   ]
  },
  {
   "cell_type": "code",
   "execution_count": 9,
   "metadata": {},
   "outputs": [
    {
     "name": "stdout",
     "output_type": "stream",
     "text": [
      "Running Wald tests...\n",
      "... done in 0.01 seconds.\n",
      "\n",
      "Log2 fold change & Wald test p-value: condition B vs A\n"
     ]
    },
    {
     "data": {
      "text/html": [
       "<div>\n",
       "<style scoped>\n",
       "    .dataframe tbody tr th:only-of-type {\n",
       "        vertical-align: middle;\n",
       "    }\n",
       "\n",
       "    .dataframe tbody tr th {\n",
       "        vertical-align: top;\n",
       "    }\n",
       "\n",
       "    .dataframe thead th {\n",
       "        text-align: right;\n",
       "    }\n",
       "</style>\n",
       "<table border=\"1\" class=\"dataframe\">\n",
       "  <thead>\n",
       "    <tr style=\"text-align: right;\">\n",
       "      <th></th>\n",
       "      <th>baseMean</th>\n",
       "      <th>log2FoldChange</th>\n",
       "      <th>lfcSE</th>\n",
       "      <th>stat</th>\n",
       "      <th>pvalue</th>\n",
       "      <th>padj</th>\n",
       "    </tr>\n",
       "  </thead>\n",
       "  <tbody>\n",
       "    <tr>\n",
       "      <th>gene1</th>\n",
       "      <td>8.541317</td>\n",
       "      <td>0.632812</td>\n",
       "      <td>0.289101</td>\n",
       "      <td>2.188898</td>\n",
       "      <td>0.028604</td>\n",
       "      <td>0.064150</td>\n",
       "    </tr>\n",
       "    <tr>\n",
       "      <th>gene2</th>\n",
       "      <td>21.281239</td>\n",
       "      <td>0.538552</td>\n",
       "      <td>0.149963</td>\n",
       "      <td>3.591235</td>\n",
       "      <td>0.000329</td>\n",
       "      <td>0.001646</td>\n",
       "    </tr>\n",
       "    <tr>\n",
       "      <th>gene3</th>\n",
       "      <td>5.010123</td>\n",
       "      <td>-0.632830</td>\n",
       "      <td>0.295236</td>\n",
       "      <td>-2.143475</td>\n",
       "      <td>0.032075</td>\n",
       "      <td>0.064150</td>\n",
       "    </tr>\n",
       "    <tr>\n",
       "      <th>gene4</th>\n",
       "      <td>100.517961</td>\n",
       "      <td>-0.412102</td>\n",
       "      <td>0.118629</td>\n",
       "      <td>-3.473867</td>\n",
       "      <td>0.000513</td>\n",
       "      <td>0.001710</td>\n",
       "    </tr>\n",
       "    <tr>\n",
       "      <th>gene5</th>\n",
       "      <td>27.142450</td>\n",
       "      <td>0.582065</td>\n",
       "      <td>0.154706</td>\n",
       "      <td>3.762408</td>\n",
       "      <td>0.000168</td>\n",
       "      <td>0.001646</td>\n",
       "    </tr>\n",
       "    <tr>\n",
       "      <th>gene6</th>\n",
       "      <td>5.413043</td>\n",
       "      <td>0.001457</td>\n",
       "      <td>0.310311</td>\n",
       "      <td>0.004696</td>\n",
       "      <td>0.996253</td>\n",
       "      <td>0.996253</td>\n",
       "    </tr>\n",
       "    <tr>\n",
       "      <th>gene7</th>\n",
       "      <td>28.294023</td>\n",
       "      <td>0.134338</td>\n",
       "      <td>0.149945</td>\n",
       "      <td>0.895917</td>\n",
       "      <td>0.370297</td>\n",
       "      <td>0.411441</td>\n",
       "    </tr>\n",
       "    <tr>\n",
       "      <th>gene8</th>\n",
       "      <td>40.358344</td>\n",
       "      <td>-0.270656</td>\n",
       "      <td>0.136401</td>\n",
       "      <td>-1.984260</td>\n",
       "      <td>0.047227</td>\n",
       "      <td>0.078711</td>\n",
       "    </tr>\n",
       "    <tr>\n",
       "      <th>gene9</th>\n",
       "      <td>37.166183</td>\n",
       "      <td>-0.212715</td>\n",
       "      <td>0.133243</td>\n",
       "      <td>-1.596437</td>\n",
       "      <td>0.110391</td>\n",
       "      <td>0.143148</td>\n",
       "    </tr>\n",
       "    <tr>\n",
       "      <th>gene10</th>\n",
       "      <td>11.589325</td>\n",
       "      <td>0.386011</td>\n",
       "      <td>0.244588</td>\n",
       "      <td>1.578207</td>\n",
       "      <td>0.114518</td>\n",
       "      <td>0.143148</td>\n",
       "    </tr>\n",
       "  </tbody>\n",
       "</table>\n",
       "</div>"
      ],
      "text/plain": [
       "          baseMean  log2FoldChange     lfcSE      stat    pvalue      padj\n",
       "gene1     8.541317        0.632812  0.289101  2.188898  0.028604  0.064150\n",
       "gene2    21.281239        0.538552  0.149963  3.591235  0.000329  0.001646\n",
       "gene3     5.010123       -0.632830  0.295236 -2.143475  0.032075  0.064150\n",
       "gene4   100.517961       -0.412102  0.118629 -3.473867  0.000513  0.001710\n",
       "gene5    27.142450        0.582065  0.154706  3.762408  0.000168  0.001646\n",
       "gene6     5.413043        0.001457  0.310311  0.004696  0.996253  0.996253\n",
       "gene7    28.294023        0.134338  0.149945  0.895917  0.370297  0.411441\n",
       "gene8    40.358344       -0.270656  0.136401 -1.984260  0.047227  0.078711\n",
       "gene9    37.166183       -0.212715  0.133243 -1.596437  0.110391  0.143148\n",
       "gene10   11.589325        0.386011  0.244588  1.578207  0.114518  0.143148"
      ]
     },
     "metadata": {},
     "output_type": "display_data"
    }
   ],
   "source": [
    "stat_res.summary()\n",
    "\n",
    "if SAVE:\n",
    "    with open(os.path.join(OUTPUT_PATH, \"stat_results.pkl\"), \"wb\") as f:\n",
    "        pkl.dump(stat_res, f)"
   ]
  },
  {
   "cell_type": "code",
   "execution_count": 10,
   "metadata": {},
   "outputs": [],
   "source": [
    "if SAVE:\n",
    "    with open(os.path.join(OUTPUT_PATH, \"shrunk_stat_results.pkl\"), \"wb\") as f:\n",
    "        pkl.dump(stat_res, f)"
   ]
  },
  {
   "cell_type": "code",
   "execution_count": 11,
   "metadata": {},
   "outputs": [
    {
     "name": "stdout",
     "output_type": "stream",
     "text": [
      "False\n"
     ]
    }
   ],
   "source": [
    "print(stat_res.shrunk_LFCs)  # Will be True only if lfc_shrink() was run."
   ]
  },
  {
   "cell_type": "code",
   "execution_count": 20,
   "metadata": {},
   "outputs": [
    {
     "ename": "NameError",
     "evalue": "name 'summary' is not defined",
     "output_type": "error",
     "traceback": [
      "\u001b[0;31m---------------------------------------------------------------------------\u001b[0m",
      "\u001b[0;31mNameError\u001b[0m                                 Traceback (most recent call last)",
      "Cell \u001b[0;32mIn[20], line 1\u001b[0m\n\u001b[0;32m----> 1\u001b[0m \u001b[39mprint\u001b[39m(summary(dds))\n\u001b[1;32m      2\u001b[0m \u001b[39m# padj.cutoff <- 0.05\u001b[39;00m\n\u001b[1;32m      3\u001b[0m \u001b[39m# stat_res <- ________ %>% filter(padj < padj.cutoff)\u001b[39;00m\n",
      "\u001b[0;31mNameError\u001b[0m: name 'summary' is not defined"
     ]
    }
   ],
   "source": [
    "print(summary(dds))\n",
    "# padj.cutoff <- 0.05\n",
    "# stat_res <- ________ %>% filter(padj < padj.cutoff)"
   ]
  }
 ],
 "metadata": {
  "kernelspec": {
   "display_name": "owkin1",
   "language": "python",
   "name": "python3"
  },
  "language_info": {
   "codemirror_mode": {
    "name": "ipython",
    "version": 3
   },
   "file_extension": ".py",
   "mimetype": "text/x-python",
   "name": "python",
   "nbconvert_exporter": "python",
   "pygments_lexer": "ipython3",
   "version": "3.9.16"
  },
  "orig_nbformat": 4
 },
 "nbformat": 4,
 "nbformat_minor": 2
}
