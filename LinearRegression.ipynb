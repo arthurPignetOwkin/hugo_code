{
 "cells": [
  {
   "attachments": {},
   "cell_type": "markdown",
   "metadata": {},
   "source": [
    "Linear Regression"
   ]
  },
  {
   "attachments": {},
   "cell_type": "markdown",
   "metadata": {},
   "source": [
    "First import the data set, and tools that will be used throughout."
   ]
  },
  {
   "cell_type": "code",
   "execution_count": 3,
   "metadata": {},
   "outputs": [],
   "source": [
    "import matplotlib.pyplot as plt\n",
    "import numpy as np\n",
    "from sklearn.datasets import load_breast_cancer\n",
    "from sklearn.datasets import load_diabetes\n",
    "from sklearn.model_selection import train_test_split\n",
    "data_before_split = load_breast_cancer()\n",
    "diabetes_data = load_diabetes()\n",
    "two_var_data = data_before_split.data[:, :2]"
   ]
  },
  {
   "attachments": {},
   "cell_type": "markdown",
   "metadata": {},
   "source": [
    "Split the data."
   ]
  },
  {
   "cell_type": "code",
   "execution_count": 4,
   "metadata": {},
   "outputs": [],
   "source": [
    "def train_test_split2(data, train_size):\n",
    "    slice = int(data.shape[0] * train_size)\n",
    "    train = data[:, 0]\n",
    "    target = data[:, 1]\n",
    "    return np.array(train[:slice]), np.array(train[slice:]), np.array(target[:slice]), np.array(target[slice:]) "
   ]
  },
  {
   "attachments": {},
   "cell_type": "markdown",
   "metadata": {},
   "source": [
    "To create a linear regression model, the class must be made to have it's parameters, attributes and methods."
   ]
  },
  {
   "cell_type": "code",
   "execution_count": 5,
   "metadata": {},
   "outputs": [],
   "source": [
    "class LinearRegression:\n",
    "    \"\"\"The class fits a line to the data that can be used to predict known or unknown quantities based on the input.\"\"\"\n",
    "\n",
    "    def __init__(self):\n",
    "        self.a : np.ndarray\n",
    "\n",
    "\n",
    "    def fit(self, X, y):\n",
    "        self.a = np.linalg.inv(X.T@X)@X.T@y\n",
    "        for s in step:\n",
    "            self.a = self.a - loss_gradient(self.a, X, y) \n",
    "        \n",
    "    def predict(self, X):\n",
    "        return X * self.a\n",
    "    "
   ]
  },
  {
   "attachments": {},
   "cell_type": "markdown",
   "metadata": {},
   "source": [
    "Addition of Sample Data to test the Linear Regression Model."
   ]
  },
  {
   "cell_type": "code",
   "execution_count": 6,
   "metadata": {},
   "outputs": [
    {
     "ename": "LinAlgError",
     "evalue": "0-dimensional array given. Array must be at least two-dimensional",
     "output_type": "error",
     "traceback": [
      "\u001b[0;31m---------------------------------------------------------------------------\u001b[0m",
      "\u001b[0;31mLinAlgError\u001b[0m                               Traceback (most recent call last)",
      "Cell \u001b[0;32mIn[6], line 4\u001b[0m\n\u001b[1;32m      2\u001b[0m model \u001b[39m=\u001b[39m LinearRegression()\n\u001b[1;32m      3\u001b[0m model\u001b[39m.\u001b[39mfit(X_train, y_train)\n\u001b[0;32m----> 4\u001b[0m predicted_vals \u001b[39m=\u001b[39m model\u001b[39m.\u001b[39;49mpredict(X_test)\n",
      "Cell \u001b[0;32mIn[5], line 22\u001b[0m, in \u001b[0;36mLinearRegression.predict\u001b[0;34m(self, X)\u001b[0m\n\u001b[1;32m     11\u001b[0m \u001b[39mdef\u001b[39;00m \u001b[39mpredict\u001b[39m(\u001b[39mself\u001b[39m, X):\n\u001b[1;32m     12\u001b[0m     \u001b[39m# y_transpose_x = (self.target * self.data).sum()\u001b[39;00m\n\u001b[1;32m     13\u001b[0m     \u001b[39m# lst_matrix = []\u001b[39;00m\n\u001b[0;32m   (...)\u001b[0m\n\u001b[1;32m     20\u001b[0m     \u001b[39m# inverted_matrix = np.linalg.inv(x_transposition)\u001b[39;00m\n\u001b[1;32m     21\u001b[0m     \u001b[39m# a = y_transpose_x * inverted_matrix\u001b[39;00m\n\u001b[0;32m---> 22\u001b[0m     a \u001b[39m=\u001b[39m np\u001b[39m.\u001b[39;49mlinalg\u001b[39m.\u001b[39;49minv(\u001b[39mself\u001b[39;49m\u001b[39m.\u001b[39;49mdata\u001b[39m.\u001b[39;49mT\u001b[39m@self\u001b[39;49m\u001b[39m.\u001b[39;49mdata)\u001b[39m@self\u001b[39m\u001b[39m.\u001b[39mdata\u001b[39m.\u001b[39mT\u001b[39m@self\u001b[39m\u001b[39m.\u001b[39mtarget\n\u001b[1;32m     23\u001b[0m     \u001b[39mprint\u001b[39m(a)\n\u001b[1;32m     24\u001b[0m     \u001b[39mprint\u001b[39m(X \u001b[39m*\u001b[39m a)\n",
      "File \u001b[0;32m<__array_function__ internals>:200\u001b[0m, in \u001b[0;36minv\u001b[0;34m(*args, **kwargs)\u001b[0m\n",
      "File \u001b[0;32m~/anaconda3/envs/owkin1/lib/python3.9/site-packages/numpy/linalg/linalg.py:532\u001b[0m, in \u001b[0;36minv\u001b[0;34m(a)\u001b[0m\n\u001b[1;32m    471\u001b[0m \u001b[39m\u001b[39m\u001b[39m\"\"\"\u001b[39;00m\n\u001b[1;32m    472\u001b[0m \u001b[39mCompute the (multiplicative) inverse of a matrix.\u001b[39;00m\n\u001b[1;32m    473\u001b[0m \n\u001b[0;32m   (...)\u001b[0m\n\u001b[1;32m    529\u001b[0m \n\u001b[1;32m    530\u001b[0m \u001b[39m\"\"\"\u001b[39;00m\n\u001b[1;32m    531\u001b[0m a, wrap \u001b[39m=\u001b[39m _makearray(a)\n\u001b[0;32m--> 532\u001b[0m _assert_stacked_2d(a)\n\u001b[1;32m    533\u001b[0m _assert_stacked_square(a)\n\u001b[1;32m    534\u001b[0m t, result_t \u001b[39m=\u001b[39m _commonType(a)\n",
      "File \u001b[0;32m~/anaconda3/envs/owkin1/lib/python3.9/site-packages/numpy/linalg/linalg.py:183\u001b[0m, in \u001b[0;36m_assert_stacked_2d\u001b[0;34m(*arrays)\u001b[0m\n\u001b[1;32m    181\u001b[0m \u001b[39mfor\u001b[39;00m a \u001b[39min\u001b[39;00m arrays:\n\u001b[1;32m    182\u001b[0m     \u001b[39mif\u001b[39;00m a\u001b[39m.\u001b[39mndim \u001b[39m<\u001b[39m \u001b[39m2\u001b[39m:\n\u001b[0;32m--> 183\u001b[0m         \u001b[39mraise\u001b[39;00m LinAlgError(\u001b[39m'\u001b[39m\u001b[39m%d\u001b[39;00m\u001b[39m-dimensional array given. Array must be \u001b[39m\u001b[39m'\u001b[39m\n\u001b[1;32m    184\u001b[0m                 \u001b[39m'\u001b[39m\u001b[39mat least two-dimensional\u001b[39m\u001b[39m'\u001b[39m \u001b[39m%\u001b[39m a\u001b[39m.\u001b[39mndim)\n",
      "\u001b[0;31mLinAlgError\u001b[0m: 0-dimensional array given. Array must be at least two-dimensional"
     ]
    }
   ],
   "source": [
    "X_train, X_test, y_train, y_test = train_test_split(two_var_data[:, 0], two_var_data[:, 1], test_size=0.2)\n",
    "model = LinearRegression()\n",
    "model.fit(X_train, y_train)\n",
    "predicted_vals = model.predict(X_test)"
   ]
  },
  {
   "attachments": {},
   "cell_type": "markdown",
   "metadata": {},
   "source": [
    "In order to view the linear model in terms of the data, the same range of inputs are graphed, both with the data and the predicted values."
   ]
  },
  {
   "cell_type": "code",
   "execution_count": null,
   "metadata": {},
   "outputs": [
    {
     "ename": "NameError",
     "evalue": "name 'predicted_vals' is not defined",
     "output_type": "error",
     "traceback": [
      "\u001b[0;31m---------------------------------------------------------------------------\u001b[0m",
      "\u001b[0;31mNameError\u001b[0m                                 Traceback (most recent call last)",
      "Cell \u001b[0;32mIn[10], line 3\u001b[0m\n\u001b[1;32m      1\u001b[0m f \u001b[39m=\u001b[39m plt\u001b[39m.\u001b[39mfigure()\n\u001b[1;32m      2\u001b[0m plt\u001b[39m.\u001b[39mscatter(two_var_data[:, \u001b[39m0\u001b[39m], two_var_data[:, \u001b[39m1\u001b[39m], color\u001b[39m=\u001b[39m\u001b[39m'\u001b[39m\u001b[39mblue\u001b[39m\u001b[39m'\u001b[39m)\n\u001b[0;32m----> 3\u001b[0m plt\u001b[39m.\u001b[39mplot(X_test, predicted_vals, color\u001b[39m=\u001b[39m\u001b[39m'\u001b[39m\u001b[39mred\u001b[39m\u001b[39m'\u001b[39m)\n\u001b[1;32m      4\u001b[0m plt\u001b[39m.\u001b[39mxlabel(\u001b[39m'\u001b[39m\u001b[39mMean Radius\u001b[39m\u001b[39m'\u001b[39m)\n\u001b[1;32m      5\u001b[0m plt\u001b[39m.\u001b[39mylabel(\u001b[39m'\u001b[39m\u001b[39mMean Texture\u001b[39m\u001b[39m'\u001b[39m)\n",
      "\u001b[0;31mNameError\u001b[0m: name 'predicted_vals' is not defined"
     ]
    },
    {
     "data": {
      "image/png": "[encoded data removed]",
      "text/plain": [
       "<Figure size 640x480 with 1 Axes>"
      ]
     },
     "metadata": {},
     "output_type": "display_data"
    }
   ],
   "source": [
    "f = plt.figure()\n",
    "plt.scatter(two_var_data[:, 0], two_var_data[:, 1], color='blue')\n",
    "plt.plot(X_test, predicted_vals, color='red')\n",
    "plt.xlabel('Mean Radius')\n",
    "plt.ylabel('Mean Texture')"
   ]
  },
  {
   "cell_type": "code",
   "execution_count": null,
   "metadata": {},
   "outputs": [
    {
     "data": {
      "text/plain": [
       "array([[ 38,  44,  50,  56],\n",
       "       [ 83,  98, 113, 128]])"
      ]
     },
     "execution_count": 265,
     "metadata": {},
     "output_type": "execute_result"
    }
   ],
   "source": [
    "A = np.array([[1, 2, 3], [4, 5, 6]])\n",
    "B = np.array([[1, 2, 3, 4], [5, 6, 7, 8], [9, 10, 11, 12]])\n",
    "np.dot(A, B)"
   ]
  },
  {
   "cell_type": "code",
   "execution_count": null,
   "metadata": {},
   "outputs": [
    {
     "ename": "ValueError",
     "evalue": "matmul: Input operand 1 has a mismatch in its core dimension 0, with gufunc signature (n?,k),(k,m?)->(n?,m?) (size 2 is different from 4)",
     "output_type": "error",
     "traceback": [
      "\u001b[0;31m---------------------------------------------------------------------------\u001b[0m",
      "\u001b[0;31mValueError\u001b[0m                                Traceback (most recent call last)",
      "Cell \u001b[0;32mIn[267], line 1\u001b[0m\n\u001b[0;32m----> 1\u001b[0m B\u001b[39m@A\u001b[39;49m\n",
      "\u001b[0;31mValueError\u001b[0m: matmul: Input operand 1 has a mismatch in its core dimension 0, with gufunc signature (n?,k),(k,m?)->(n?,m?) (size 2 is different from 4)"
     ]
    }
   ],
   "source": [
    "B@A"
   ]
  },
  {
   "cell_type": "code",
   "execution_count": null,
   "metadata": {},
   "outputs": [
    {
     "data": {
      "text/plain": [
       "array([[ 0.91730313,  0.88251177],\n",
       "       [ 0.38986869,  0.75652795],\n",
       "       [-0.85447155,  2.39054959],\n",
       "       [ 1.03185426, -0.54426348],\n",
       "       [-1.65188224,  0.17613845],\n",
       "       [ 1.01467872,  1.23464917],\n",
       "       [ 0.37783511,  0.97558001],\n",
       "       [-0.50824628, -0.68860627],\n",
       "       [ 0.37237847,  0.08881998],\n",
       "       [-0.59271073, -1.45696844]])"
      ]
     },
     "execution_count": 18,
     "metadata": {},
     "output_type": "execute_result"
    }
   ],
   "source": [
    "X = np.random.randn(10, 2)\n",
    "y = np.random.randn(10,)*0.02 + X@np.array([2,3])\n",
    "w = np.array([1,1])\n",
    "X"
   ]
  },
  {
   "cell_type": "code",
   "execution_count": null,
   "metadata": {},
   "outputs": [],
   "source": []
  },
  {
   "cell_type": "code",
   "execution_count": null,
   "metadata": {},
   "outputs": [],
   "source": [
    "def pred(X, w):\n",
    "    return X@w\n",
    "\n",
    "def loss(w, X, y):\n",
    "    return np.mean(np.square(pred(X, w) - y))"
   ]
  },
  {
   "cell_type": "code",
   "execution_count": null,
   "metadata": {},
   "outputs": [
    {
     "data": {
      "text/plain": [
       "0.0007340440724757174"
      ]
     },
     "execution_count": 319,
     "metadata": {},
     "output_type": "execute_result"
    }
   ],
   "source": [
    "loss(np.array([2,3]), X, y)"
   ]
  },
  {
   "cell_type": "code",
   "execution_count": null,
   "metadata": {},
   "outputs": [
    {
     "data": {
      "text/plain": [
       "array([1.97060029, 3.02343755])"
      ]
     },
     "execution_count": 294,
     "metadata": {},
     "output_type": "execute_result"
    }
   ],
   "source": [
    "w_ = np.linalg.inv(X.T@X)@X.T@y\n",
    "w_"
   ]
  },
  {
   "cell_type": "code",
   "execution_count": null,
   "metadata": {},
   "outputs": [
    {
     "data": {
      "text/plain": [
       "0.34527926500567613"
      ]
     },
     "execution_count": 289,
     "metadata": {},
     "output_type": "execute_result"
    }
   ],
   "source": [
    "loss(w_, X, y)"
   ]
  },
  {
   "cell_type": "code",
   "execution_count": null,
   "metadata": {},
   "outputs": [],
   "source": [
    "w_candidate_1 = np.linspace(-1,1,100)\n",
    "w_candidate_2 = np.linspace(-1,1,100)\n",
    "w_values = []\n",
    "loss_values =[]\n",
    "for w_1 in w_candidate_1:\n",
    "    for w_2 in w_candidate_2:\n",
    "         w = np.array([w_1, w_2])\n",
    "         w_values.append(w)\n",
    "         loss_val = loss(w, X, y)\n",
    "         loss_values.append(loss_val)\n"
   ]
  },
  {
   "cell_type": "code",
   "execution_count": null,
   "metadata": {},
   "outputs": [
    {
     "data": {
      "text/plain": [
       "Text(0, 0.5, 'Loss')"
      ]
     },
     "execution_count": 21,
     "metadata": {},
     "output_type": "execute_result"
    },
    {
     "data": {
      "image/png": "[encoded data removed]",
      "text/plain": [
       "<Figure size 640x480 with 1 Axes>"
      ]
     },
     "metadata": {},
     "output_type": "display_data"
    }
   ],
   "source": [
    "\n",
    "f = plt.figure()\n",
    "plt.plot(w_values, loss_values, color='blue')\n",
    "plt.xlabel('W values')\n",
    "plt.ylabel('Loss')"
   ]
  },
  {
   "cell_type": "code",
   "execution_count": 7,
   "metadata": {},
   "outputs": [
    {
     "name": "stdout",
     "output_type": "stream",
     "text": [
      "[ -176.9546503   -299.16778989   594.53059596   368.72525305\n",
      " -1738.75600274  1129.63256557   828.17945958   772.15459391\n",
      "   916.42575935   -99.24908976]\n",
      "[[ 6.76097729e+00 -1.51618591e+01  2.71829294e+00  1.31427653e+01\n",
      "   1.94751623e+01  6.65188338e+00 -3.89927457e+01  2.64917430e+01\n",
      "   1.49439928e+01  1.06960496e-01]\n",
      " [ 9.33215557e+00 -1.51618591e+01 -6.89359088e+00  2.07595619e+01\n",
      "  -9.77547059e+01  8.23528212e+01 -3.28946321e+01  5.49851130e+01\n",
      "   2.80092938e+01  5.18060837e-01]\n",
      " [-1.12372707e+01  1.33553397e+01  1.04078000e+01  8.06490088e+00\n",
      "  -1.40190857e+01  2.43390184e+01 -2.98455753e+01  2.64917430e+01\n",
      "   1.82437331e+01 -1.12634053e+00]\n",
      " [-6.73770871e+00 -1.51618591e+01 -1.77870592e+01 -2.74801498e+01\n",
      "   2.18676086e+01 -1.42189359e+01  3.69404959e+00 -2.00162701e+00\n",
      "   3.39907843e+00  2.98466288e+00]\n",
      " [-1.59535214e+00  1.33553397e+01 -1.90686437e+01 -9.70762448e+00\n",
      "  -7.38302430e+01 -1.17427370e+01  1.31754435e+02 -5.89883670e+01\n",
      "  -1.09025810e+01  3.80686356e+00]\n",
      " [-3.09762995e-01  1.33553397e+01 -3.89332036e+01 -2.09082789e+00\n",
      "   1.22978235e+01 -2.20012753e+01  3.41846177e+01 -3.04949970e+01\n",
      "  -3.02497304e+00 -7.15240186e-01]\n",
      " [-4.16653042e+00 -1.51618591e+01 -2.35541895e+01 -2.09082789e+00\n",
      "   8.40712122e+01 -3.75659542e+01  9.79216321e+00 -3.04949970e+01\n",
      "  -9.31454766e+01  6.68456595e+00]\n",
      " [-9.30888699e+00  1.33553397e+01 -1.26607212e+01 -2.74801498e+01\n",
      "   6.97165345e+01 -4.25183520e+01 -5.45312083e+00 -3.04949970e+01\n",
      "  -5.60609991e-01  5.45126493e+00]\n",
      " [-1.18800653e+01  1.33553397e+01 -2.29133972e+01 -9.70762448e+00\n",
      "   5.53618567e+01 -2.97836148e+01  6.74310640e+00 -3.04949970e+01\n",
      "  -2.48617358e+01 -3.04139845e-01]\n",
      " [ 1.12605393e+01 -1.51618591e+01 -4.72635029e+01 -2.09082789e+00\n",
      "   1.24742799e+02 -7.50626804e+01 -8.50217763e+00 -3.04949970e+01\n",
      "  -1.65998542e+01  5.45126493e+00]\n",
      " [-9.52557566e-01  1.33553397e+01 -2.86805275e+01 -4.62976009e+00\n",
      "  -2.05685428e+00 -7.49782463e+00  5.24789585e+01 -3.04949970e+01\n",
      "  -4.71078334e+01  5.86236527e+00]\n",
      " [-2.88094128e+00 -1.51618591e+01 -2.73989430e+01  4.25650259e+00\n",
      "   5.77543030e+01 -1.81101056e+01 -8.50217763e+00 -2.00162701e+00\n",
      "  -4.03078621e+01  4.21796391e+00]\n",
      " [-9.52557566e-01 -1.51618591e+01 -4.97121412e+00  8.06490088e+00\n",
      "  -9.53622597e+01  8.27065639e+01 -2.06984049e+01  2.64917430e+01\n",
      "   1.15022383e+01 -9.34834735e+00]\n",
      " [-1.59535214e+00  1.33553397e+01  3.28355289e+01 -2.09082789e+00\n",
      "  -1.00147152e+02  5.05159782e+01 -2.40406402e+00  1.79437320e+01\n",
      "   5.10322923e+01 -1.05816484e+01]\n",
      " [ 9.33215557e+00  1.33553397e+01  1.80973070e+01 -2.74801498e+01\n",
      "   4.10071790e+01 -1.28039651e+01 -2.40406402e+00 -2.00162701e+00\n",
      "  -2.81781837e+01  1.06960496e-01]\n",
      " [-8.02329785e+00 -1.51618591e+01  3.60394902e+01  1.14543754e+01\n",
      "  -4.99057801e+01 -5.34843757e+01 -4.50908593e+01  5.49851130e+01\n",
      "   1.22431991e+02 -1.34593508e+01]\n",
      " [ 8.04656643e+00 -1.51618591e+01  8.15357403e+01 -5.89922619e+00\n",
      "  -7.14377967e+01  3.60125275e+01 -3.59436889e+01  5.49851130e+01\n",
      "   6.50833386e+01 -4.82624360e+00]\n",
      " [ 6.76097729e+00  1.33553397e+01  3.98842437e+01 -2.24022855e+01\n",
      "   5.05769641e+01 -2.62461877e+01 -8.50217763e+00 -2.00162701e+00\n",
      "  -1.37092598e+00 -1.94854121e+00]\n",
      " [-6.73770871e+00 -1.51618591e+01  9.76700774e+00  8.06490088e+00\n",
      "  -6.90453504e+01  5.08697209e+01 -3.59436889e+01  5.49851130e+01\n",
      "   4.56106936e+01 -1.53744087e+00]\n",
      " [ 3.33031577e-01  1.33553397e+01 -4.14963726e+01 -4.62976009e+00\n",
      "   3.35592014e-01 -1.03277662e+01  5.85770721e+01 -3.04949970e+01\n",
      "  -5.76586487e+01 -4.00404291e+00]\n",
      " [-9.52557566e-01 -1.51618591e+01  1.04078000e+01  1.18732992e+01\n",
      "  -2.22161913e+02  1.43904051e+02 -1.76493481e+01  5.49851130e+01\n",
      "   5.73477447e+01 -1.53744087e+00]\n",
      " [ 4.18979900e+00  1.33553397e+01  3.53986979e+01 -1.47854889e+01\n",
      "   7.45014271e+01 -4.92394633e+01  9.79216321e+00 -3.04949970e+01\n",
      "  -1.46617789e+01 -4.00404291e+00]\n",
      " [ 1.61862072e+00 -1.51618591e+01  7.95916171e-01 -8.21361798e-01\n",
      "  -1.38426293e+02  7.91691369e+01  2.80865040e+01 -2.00162701e+00\n",
      "   2.44840016e+01 -8.11504632e+00]\n",
      " [ 8.04656643e+00  1.33553397e+01 -2.86805275e+01 -7.16869228e+00\n",
      "   3.35592014e-01 -1.81101056e+01  5.55280153e+01 -3.04949970e+01\n",
      "  -2.27231699e+01 -1.94854121e+00]\n",
      " [-1.18800653e+01 -1.51618591e+01 -8.81596765e+00  2.16101041e+01\n",
      "   1.03210783e+02 -3.89809250e+01 -5.11889729e+01  9.96558839e+00\n",
      "  -4.71243519e+00 -4.82624360e+00]\n",
      " [-2.88094128e+00 -1.51618591e+01  4.30882050e+01  2.83763584e+01\n",
      "   1.46902698e+01  6.29814068e+00 -5.45312083e+00 -2.00162701e+00\n",
      "  -2.16705945e+01 -6.05954462e+00]\n",
      " [-1.95936001e+01 -1.51618591e+01  3.99987744e+00  1.06038331e+01\n",
      "   4.81845178e+01 -8.20531003e+00 -3.89927457e+01  2.64917430e+01\n",
      "   1.83692287e+00 -7.70394598e+00]\n",
      " [ 1.64028959e+01  1.33553397e+01 -4.85450874e+01 -2.11328194e+01\n",
      "   1.05603229e+02 -7.68313939e+01  4.02827313e+01 -5.89883670e+01\n",
      "  -6.09333278e+01  2.16246220e+00]\n",
      " [-5.45211957e+00 -1.51618591e+01 -2.03502282e+01  1.61006213e+01\n",
      "  -1.00147152e+02  7.77541661e+01 -2.67965185e+01  4.44425661e+01\n",
      "   3.24952699e+01 -8.52614666e+00]\n",
      " [-2.88094128e+00  1.33553397e+01  4.37289972e+01 -1.52044127e+01\n",
      "   7.51293089e+00 -1.52801640e+01 -1.15512344e+01 -8.61892210e-01\n",
      "   3.93119487e+01 -4.41514325e+00]\n",
      " [ 9.75826148e-01  1.33553397e+01  2.51460218e+01  1.82206297e+01\n",
      "  -4.27284412e+01 -2.69536731e+01  6.16261289e+01 -3.04949970e+01\n",
      "   4.79079812e+01 -2.77074189e+00]\n",
      " [-1.05944761e+01 -1.51618591e+01  4.56513740e+01  9.33436698e+00\n",
      "  -2.05685428e+00  1.90328779e+01 -4.50908593e+01  2.64917430e+01\n",
      "   2.74328835e+01 -4.41514325e+00]\n",
      " [-6.73770871e+00 -1.51618591e+01 -8.17517539e+00 -5.89922619e+00\n",
      "   6.25391956e+01 -2.48312169e+01 -1.15512344e+01 -2.00162701e+00\n",
      "  -2.37840991e+01  1.06960496e-01]\n",
      " [-7.38050328e+00 -1.51618591e+01  3.66802824e+01 -1.47854889e+01\n",
      "   2.42600549e+01  7.00562608e+00 -2.37474617e+01 -2.00162701e+00\n",
      "  -1.37094488e+01 -1.12634053e+00]\n",
      " [-1.57368327e+01  1.33553397e+01  3.99987744e+00  9.33436698e+00\n",
      "  -5.22982264e+01  9.83556768e+00  5.24789585e+01 -3.04949970e+01\n",
      "   8.64524790e+00 -3.18184223e+00]\n",
      " [ 4.18979900e+00 -1.51618591e+01 -1.52238902e+01  1.56816975e+01\n",
      "   9.36409974e+01 -5.38381184e+01 -1.76493481e+01 -3.04949970e+01\n",
      "   1.05166821e+00 -1.94854121e+00]\n",
      " [-9.95168156e+00  1.33553397e+01 -3.44476578e+01 -2.94137018e+00\n",
      "  -9.05773671e+01  5.54683760e+01  4.63808449e+01 -1.65332457e+01\n",
      "  -2.59560800e+01 -4.41514325e+00]\n",
      " [-9.52557566e-01  1.33553397e+01  2.96315676e+01  3.59931550e+01\n",
      "   2.66525012e+01 -1.84638483e+01 -5.45312083e+00 -2.00162701e+00\n",
      "   1.56122946e+01  1.34026152e+00]\n",
      " [-3.52373585e+00 -1.51618591e+01  2.70683986e+01  1.10227569e+01\n",
      "   1.07995675e+02 -6.30354286e+01 -6.03361434e+01  2.07930690e+01\n",
      "   4.17930193e+01 -4.00404291e+00]\n",
      " [ 4.18979900e+00 -1.51618591e+01  2.70683986e+01  8.06490088e+00\n",
      "  -1.91060111e+02  1.00393699e+02  6.44992786e-01  2.64917430e+01\n",
      "   6.79904516e+01 -6.05954462e+00]\n",
      " [-6.09491414e+00  1.33553397e+01 -2.29133972e+01 -4.62976009e+00\n",
      "  -1.64115320e+01  5.94439798e+00 -5.45312083e+00 -2.00162701e+00\n",
      "   2.85857042e+01 -9.75944769e+00]\n",
      " [-8.66609242e+00 -1.51618591e+01  4.43697895e+01  2.45679601e+01\n",
      "   1.70827161e+01 -2.54542683e+00 -3.59436889e+01  2.64917430e+01\n",
      "   3.08412229e+01 -1.94854121e+00]\n",
      " [ 1.31889230e+01 -1.51618591e+01 -5.61200637e+00  5.52596869e+00\n",
      "   6.49316419e+01 -2.44774742e+01 -1.15512344e+01 -2.00162701e+00\n",
      "  -3.04671175e+01 -1.12634053e+00]\n",
      " [-8.66609242e+00 -1.51618591e+01  7.32054409e+01  3.09152906e+01\n",
      "   1.82161510e+02 -1.13974377e+02 -5.72870865e+01 -2.00162701e+00\n",
      "   3.35812604e+01  2.98466288e+00]\n",
      " [-3.09762995e-01 -1.51618591e+01  6.56304646e+00 -7.16869228e+00\n",
      "   2.90449475e+01 -4.31414033e+00 -3.89927457e+01  2.64917430e+01\n",
      "   2.20446999e+01 -2.35964155e+00]\n",
      " [ 4.18979900e+00  1.33553397e+01  1.80973070e+01 -2.09082789e+00\n",
      "  -1.43211185e+02  1.03931126e+02 -1.46002912e+01  5.49851130e+01\n",
      "   3.02815201e+01 -3.04139845e-01]\n",
      " [-1.25228598e+01 -1.51618591e+01 -4.33042187e+00  1.82206297e+01\n",
      "  -1.04932045e+02 -5.02162573e+00 -4.50908593e+01  8.34784830e+01\n",
      "   1.18238396e+02 -5.64844428e+00]\n",
      " [-1.18800653e+01 -1.51618591e+01 -3.68962961e+00  2.32984941e+01\n",
      "   7.45014271e+01 -1.08314494e+02  4.33317881e+01 -5.89883670e+01\n",
      "   5.44573393e+01 -5.23734394e+00]\n",
      " [-1.44512436e+01 -1.51618591e+01 -1.52238902e+01 -1.35160228e+01\n",
      "   1.22350353e+02 -5.24231476e+01 -3.28946321e+01 -2.00162701e+00\n",
      "  -3.77349000e+01  5.18060837e-01]\n",
      " [-3.09762995e-01 -1.51618591e+01 -3.68962961e+00 -7.16869228e+00\n",
      "   1.70827161e+01  5.59065528e+00 -3.28946321e+01  2.64917430e+01\n",
      "   1.35823278e+01 -9.75944769e+00]\n",
      " [-4.16653042e+00 -1.51618591e+01 -1.84278515e+01 -2.09082789e+00\n",
      "   2.90449475e+01  2.00941060e+01 -2.67965185e+01 -2.00162701e+00\n",
      "  -6.79003745e+01  3.39576322e+00]\n",
      " [ 1.83312796e+01  1.33553397e+01 -2.22726050e+01 -9.70762448e+00\n",
      "  -4.44930057e+00  2.25703049e+01  9.79216321e+00 -2.00162701e+00\n",
      "  -6.26207899e+01  2.57356254e+00]\n",
      " [ 3.33031577e-01  1.33553397e+01 -3.06029043e+01 -9.70762448e+00\n",
      "   1.46902698e+01 -2.16475326e+01  6.16261289e+01 -3.04949970e+01\n",
      "  -6.26207899e+01  9.15116800e+00]\n",
      " [-2.23814671e+00  1.33553397e+01  3.99987744e+00 -2.07138955e+01\n",
      "   1.31920138e+02 -7.50626804e+01 -1.76493481e+01 -2.90703285e+01\n",
      "  -1.65998542e+01  9.15116800e+00]\n",
      " [-1.18800653e+01 -1.51618591e+01  1.23301768e+01 -2.09082789e+00\n",
      "  -3.55511024e+01  2.96451589e+01 -2.40406402e+00 -2.00162701e+00\n",
      "   7.91846965e+00 -3.04139845e-01]\n",
      " [ 1.31889230e+01  1.33553397e+01 -1.39423057e+01 -2.09082789e+00\n",
      "   3.62222864e+01 -1.59876494e+01  1.28412200e+01 -3.04949970e+01\n",
      "  -3.52454757e+01  2.98466288e+00]\n",
      " [-3.09762995e-01 -1.51618591e+01 -3.44476578e+01 -1.60549550e+01\n",
      "   1.67806832e+02 -5.31306330e+01 -8.16795410e+01  2.64917430e+01\n",
      "  -5.60630781e+01  7.09566629e+00]\n",
      " [ 1.06177447e+01 -1.51618591e+01  9.12621548e+00 -7.16869228e+00\n",
      "  -6.42604579e+01  5.44071479e+01  1.58902768e+01 -2.00162701e+00\n",
      "  -2.81781837e+01  1.06960496e-01]\n",
      " [ 7.40377186e+00 -1.51618591e+01 -3.18844888e+01 -1.47854889e+01\n",
      "   1.46274816e+02 -8.10763063e+01 -2.40406402e+00 -3.04949970e+01\n",
      "  -6.61043133e+01  2.98466288e+00]\n",
      " [ 9.33215557e+00  1.33553397e+01  3.21947366e+01 -9.70762448e+00\n",
      "   9.60334437e+01 -3.82734396e+01 -1.15512344e+01 -3.04949970e+01\n",
      "  -6.79003745e+01  5.86236527e+00]\n",
      " [ 4.83259358e+00  1.33553397e+01  4.75737508e+01  3.64120788e+01\n",
      "   5.12048460e+00  2.04478487e+01 -1.46002912e+01  2.55731219e+00\n",
      "  -2.70587781e+01 -3.59294257e+00]\n",
      " [-6.73770871e+00 -1.51618591e+01 -1.07383444e+01  2.45679601e+01\n",
      "   8.88561048e+01 -1.88175910e+01 -6.33852002e+01  2.64917430e+01\n",
      "  -1.09025810e+01  1.34026152e+00]\n",
      " [ 8.68936100e+00  1.33553397e+01 -3.38068656e+01 -1.60549550e+01\n",
      "   7.92863196e+01 -4.88857206e+01  6.44992786e-01 -3.04949970e+01\n",
      "  -1.09025810e+01 -1.53744087e+00]\n",
      " [ 7.40377186e+00  1.33553397e+01 -3.89332036e+01 -1.47854889e+01\n",
      "   9.90537718e+00  1.62029363e+01 -3.59436889e+01  2.64917430e+01\n",
      "   6.43985182e+00  1.34026152e+00]\n",
      " [-3.52373585e+00  1.33553397e+01 -3.44476578e+01 -2.11328194e+01\n",
      "   2.72803831e+00 -1.42189359e+01  6.16261289e+01 -3.04949970e+01\n",
      "  -5.60630781e+01  7.50676663e+00]\n",
      " [-3.52373585e+00  1.33553397e+01 -2.03502282e+01  2.03406380e+01\n",
      "  -1.16894276e+02  8.37677920e+01 -5.45312083e+00  2.53520082e+01\n",
      "   2.26628791e+01 -6.88174530e+00]\n",
      " [ 5.47538815e+00 -1.51618591e+01  1.68157225e+01  2.58374262e+01\n",
      "   2.20440651e+02 -1.20695489e+02 -4.50908593e+01 -3.70484721e+01\n",
      "  -2.81781837e+01 -1.53744087e+00]\n",
      " [ 2.26141529e+00  1.33553397e+01 -1.39423057e+01 -1.47854889e+01\n",
      "   2.90449475e+01  5.23691258e+00 -1.46002912e+01 -2.00162701e+00\n",
      "  -3.52454757e+01  3.80686356e+00]\n",
      " [-4.80932499e+00  1.33553397e+01  3.99987744e+00  1.31427653e+01\n",
      "  -1.38426293e+02  7.98766223e+01  1.28412200e+01  2.64917430e+01\n",
      "   3.72736281e+01 -1.12634053e+00]\n",
      " [-8.02329785e+00  1.33553397e+01  4.24474127e+01  4.48104300e-01\n",
      "   1.70827161e+01 -1.13045603e+00  1.28412200e+01 -3.04949970e+01\n",
      "  -3.77349000e+01  7.09566629e+00]\n",
      " [ 1.25461284e+01  1.33553397e+01  5.52632578e+01  4.67542640e+00\n",
      "  -3.55511024e+01  4.80397793e+01  6.44992786e-01  2.77842590e-01\n",
      "  -4.99815313e+01  1.06960496e-01]\n",
      " [-1.18800653e+01 -1.51618591e+01 -1.84278515e+01  1.71757040e+00\n",
      "  -4.27284412e+01  4.02574399e+01 -2.37474617e+01  2.64917430e+01\n",
      "   2.14181669e+01 -8.11504632e+00]\n",
      " [-1.25228598e+01  1.33553397e+01  4.11658282e+01  1.39933076e+01\n",
      "  -3.79435487e+01  1.69948557e+00 -2.98455753e+01  3.01958811e+01\n",
      "   7.11481778e+01 -1.05816484e+01]\n",
      " [-1.59535214e+00  1.33553397e+01  2.70683986e+01  1.06038331e+01\n",
      "  -2.11964246e+01 -1.56339067e+01  2.19883904e+01 -3.04949970e+01\n",
      "   4.22775382e+01 -3.59294257e+00]\n",
      " [-9.52557566e-01 -1.51618591e+01  1.80973070e+01  3.09152906e+01\n",
      "   6.49316419e+01 -5.34843757e+01  1.28412200e+01 -3.04949970e+01\n",
      "   7.91846965e+00 -1.53744087e+00]\n",
      " [ 4.18979900e+00  1.33553397e+01 -3.89332036e+01 -3.00190820e+01\n",
      "   6.73240882e+01 -6.05592297e+01  4.94299017e+01 -5.89883670e+01\n",
      "  -3.40258248e+01  4.21796391e+00]\n",
      " [-1.31656544e+01 -1.51618591e+01 -1.20199289e+01  1.69511636e+01\n",
      "  -1.28856508e+02  3.70737556e+01 -2.98455753e+01  5.49851130e+01\n",
      "   9.74625629e+01 -3.59294257e+00]\n",
      " [-1.18800653e+01  1.33553397e+01  3.34763212e+01  2.71068923e+01\n",
      "   2.42600549e+01 -4.42870655e+01 -2.67965185e+01 -2.00162701e+00\n",
      "   6.94105930e+01 -3.59294257e+00]\n",
      " [-4.16653042e+00  1.33553397e+01  3.66802824e+01  1.94900958e+01\n",
      "   6.01467493e+01 -5.52530892e+01 -2.37474617e+01 -2.00162701e+00\n",
      "   5.01467924e+01  5.18060837e-01]\n",
      " [ 4.83259358e+00 -1.51618591e+01 -1.39423057e+01 -5.89922619e+00\n",
      "  -2.35888709e+01  1.44342228e+01  2.19883904e+01 -2.00162701e+00\n",
      "  -9.99201976e+00  2.16246220e+00]\n",
      " [-2.23814671e+00  1.33553397e+01  9.12621548e+00 -1.22465567e+01\n",
      "  -7.14377967e+01  3.63662702e+01 -2.40406402e+00 -2.00162701e+00\n",
      "   4.13001467e+01  6.68456595e+00]\n",
      " [ 9.33215557e+00  1.33553397e+01 -3.31660733e+01 -1.35160228e+01\n",
      "  -1.55173417e+02 -3.60665493e+00  6.74310640e+00  2.64917430e+01\n",
      "   1.21312585e+02 -3.04139845e-01]\n",
      " [-9.52557566e-01  1.33553397e+01  3.53986979e+01 -2.07138955e+01\n",
      "  -4.27284412e+01  5.97132884e+01 -3.59436889e+01  3.93137595e+01\n",
      "  -3.86870412e+00  2.98466288e+00]\n",
      " [-1.44512436e+01 -1.51618591e+01  7.95916171e-01  1.31427653e+01\n",
      "  -2.19769467e+02  1.02869898e+02  1.58902768e+01  2.64917430e+01\n",
      "   7.74302151e+01  2.98466288e+00]\n",
      " [-2.88094128e+00 -1.51618591e+01 -1.26607212e+01 -3.36029399e+00\n",
      "  -5.94755653e+01  5.40534052e+01  6.44992786e-01 -2.00162701e+00\n",
      "  -1.18298498e+01 -2.35964155e+00]\n",
      " [-1.12372707e+01 -1.51618591e+01 -1.52238902e+01  4.25650259e+00\n",
      "  -1.12109384e+02  5.47608906e+01  2.50374472e+01 -2.00162701e+00\n",
      "   3.51851849e+01 -1.94854121e+00]\n",
      " [ 1.89740741e+01  1.33553397e+01 -4.59819184e+01 -9.70762448e+00\n",
      "   1.55844601e+02 -1.08668237e+02  2.19883904e+01 -5.89883670e+01\n",
      "  -3.90130273e+01  5.18060837e-01]\n",
      " [-1.05944761e+01 -1.51618591e+01  2.45052296e+01  4.25650259e+00\n",
      "  -7.14377967e+01  7.98766223e+01 -2.98455753e+01  2.64917430e+01\n",
      "  -9.99201976e+00  2.98466288e+00]\n",
      " [ 2.90420986e+00  1.33553397e+01 -6.25279863e+00  4.48104300e-01\n",
      "   6.49316419e+01 -4.03958958e+01  9.79216321e+00 -3.04949970e+01\n",
      "  -1.96072125e+01  3.39576322e+00]]\n"
     ]
    },
    {
     "ename": "ValueError",
     "evalue": "x and y must be the same size",
     "output_type": "error",
     "traceback": [
      "\u001b[0;31m---------------------------------------------------------------------------\u001b[0m",
      "\u001b[0;31mValueError\u001b[0m                                Traceback (most recent call last)",
      "Cell \u001b[0;32mIn[7], line 6\u001b[0m\n\u001b[1;32m      4\u001b[0m Predictions \u001b[39m=\u001b[39m Regressed_data\u001b[39m.\u001b[39mpredict(X_test2)\n\u001b[1;32m      5\u001b[0m f \u001b[39m=\u001b[39m plt\u001b[39m.\u001b[39mfigure()\n\u001b[0;32m----> 6\u001b[0m plt\u001b[39m.\u001b[39;49mscatter(diabetes_data\u001b[39m.\u001b[39;49mdata, diabetes_data\u001b[39m.\u001b[39;49mtarget, color\u001b[39m=\u001b[39;49m\u001b[39m'\u001b[39;49m\u001b[39mblue\u001b[39;49m\u001b[39m'\u001b[39;49m)\n\u001b[1;32m      7\u001b[0m plt\u001b[39m.\u001b[39mplot(X_test2, Predictions, color\u001b[39m=\u001b[39m\u001b[39m'\u001b[39m\u001b[39mred\u001b[39m\u001b[39m'\u001b[39m)\n\u001b[1;32m      8\u001b[0m plt\u001b[39m.\u001b[39mxlabel(\u001b[39m'\u001b[39m\u001b[39mX values\u001b[39m\u001b[39m'\u001b[39m)\n",
      "File \u001b[0;32m~/anaconda3/envs/owkin1/lib/python3.9/site-packages/matplotlib/pyplot.py:2862\u001b[0m, in \u001b[0;36mscatter\u001b[0;34m(x, y, s, c, marker, cmap, norm, vmin, vmax, alpha, linewidths, edgecolors, plotnonfinite, data, **kwargs)\u001b[0m\n\u001b[1;32m   2857\u001b[0m \u001b[39m@_copy_docstring_and_deprecators\u001b[39m(Axes\u001b[39m.\u001b[39mscatter)\n\u001b[1;32m   2858\u001b[0m \u001b[39mdef\u001b[39;00m \u001b[39mscatter\u001b[39m(\n\u001b[1;32m   2859\u001b[0m         x, y, s\u001b[39m=\u001b[39m\u001b[39mNone\u001b[39;00m, c\u001b[39m=\u001b[39m\u001b[39mNone\u001b[39;00m, marker\u001b[39m=\u001b[39m\u001b[39mNone\u001b[39;00m, cmap\u001b[39m=\u001b[39m\u001b[39mNone\u001b[39;00m, norm\u001b[39m=\u001b[39m\u001b[39mNone\u001b[39;00m,\n\u001b[1;32m   2860\u001b[0m         vmin\u001b[39m=\u001b[39m\u001b[39mNone\u001b[39;00m, vmax\u001b[39m=\u001b[39m\u001b[39mNone\u001b[39;00m, alpha\u001b[39m=\u001b[39m\u001b[39mNone\u001b[39;00m, linewidths\u001b[39m=\u001b[39m\u001b[39mNone\u001b[39;00m, \u001b[39m*\u001b[39m,\n\u001b[1;32m   2861\u001b[0m         edgecolors\u001b[39m=\u001b[39m\u001b[39mNone\u001b[39;00m, plotnonfinite\u001b[39m=\u001b[39m\u001b[39mFalse\u001b[39;00m, data\u001b[39m=\u001b[39m\u001b[39mNone\u001b[39;00m, \u001b[39m*\u001b[39m\u001b[39m*\u001b[39mkwargs):\n\u001b[0;32m-> 2862\u001b[0m     __ret \u001b[39m=\u001b[39m gca()\u001b[39m.\u001b[39;49mscatter(\n\u001b[1;32m   2863\u001b[0m         x, y, s\u001b[39m=\u001b[39;49ms, c\u001b[39m=\u001b[39;49mc, marker\u001b[39m=\u001b[39;49mmarker, cmap\u001b[39m=\u001b[39;49mcmap, norm\u001b[39m=\u001b[39;49mnorm,\n\u001b[1;32m   2864\u001b[0m         vmin\u001b[39m=\u001b[39;49mvmin, vmax\u001b[39m=\u001b[39;49mvmax, alpha\u001b[39m=\u001b[39;49malpha, linewidths\u001b[39m=\u001b[39;49mlinewidths,\n\u001b[1;32m   2865\u001b[0m         edgecolors\u001b[39m=\u001b[39;49medgecolors, plotnonfinite\u001b[39m=\u001b[39;49mplotnonfinite,\n\u001b[1;32m   2866\u001b[0m         \u001b[39m*\u001b[39;49m\u001b[39m*\u001b[39;49m({\u001b[39m\"\u001b[39;49m\u001b[39mdata\u001b[39;49m\u001b[39m\"\u001b[39;49m: data} \u001b[39mif\u001b[39;49;00m data \u001b[39mis\u001b[39;49;00m \u001b[39mnot\u001b[39;49;00m \u001b[39mNone\u001b[39;49;00m \u001b[39melse\u001b[39;49;00m {}), \u001b[39m*\u001b[39;49m\u001b[39m*\u001b[39;49mkwargs)\n\u001b[1;32m   2867\u001b[0m     sci(__ret)\n\u001b[1;32m   2868\u001b[0m     \u001b[39mreturn\u001b[39;00m __ret\n",
      "File \u001b[0;32m~/anaconda3/envs/owkin1/lib/python3.9/site-packages/matplotlib/__init__.py:1442\u001b[0m, in \u001b[0;36m_preprocess_data.<locals>.inner\u001b[0;34m(ax, data, *args, **kwargs)\u001b[0m\n\u001b[1;32m   1439\u001b[0m \u001b[39m@functools\u001b[39m\u001b[39m.\u001b[39mwraps(func)\n\u001b[1;32m   1440\u001b[0m \u001b[39mdef\u001b[39;00m \u001b[39minner\u001b[39m(ax, \u001b[39m*\u001b[39margs, data\u001b[39m=\u001b[39m\u001b[39mNone\u001b[39;00m, \u001b[39m*\u001b[39m\u001b[39m*\u001b[39mkwargs):\n\u001b[1;32m   1441\u001b[0m     \u001b[39mif\u001b[39;00m data \u001b[39mis\u001b[39;00m \u001b[39mNone\u001b[39;00m:\n\u001b[0;32m-> 1442\u001b[0m         \u001b[39mreturn\u001b[39;00m func(ax, \u001b[39m*\u001b[39;49m\u001b[39mmap\u001b[39;49m(sanitize_sequence, args), \u001b[39m*\u001b[39;49m\u001b[39m*\u001b[39;49mkwargs)\n\u001b[1;32m   1444\u001b[0m     bound \u001b[39m=\u001b[39m new_sig\u001b[39m.\u001b[39mbind(ax, \u001b[39m*\u001b[39margs, \u001b[39m*\u001b[39m\u001b[39m*\u001b[39mkwargs)\n\u001b[1;32m   1445\u001b[0m     auto_label \u001b[39m=\u001b[39m (bound\u001b[39m.\u001b[39marguments\u001b[39m.\u001b[39mget(label_namer)\n\u001b[1;32m   1446\u001b[0m                   \u001b[39mor\u001b[39;00m bound\u001b[39m.\u001b[39mkwargs\u001b[39m.\u001b[39mget(label_namer))\n",
      "File \u001b[0;32m~/anaconda3/envs/owkin1/lib/python3.9/site-packages/matplotlib/axes/_axes.py:4584\u001b[0m, in \u001b[0;36mAxes.scatter\u001b[0;34m(self, x, y, s, c, marker, cmap, norm, vmin, vmax, alpha, linewidths, edgecolors, plotnonfinite, **kwargs)\u001b[0m\n\u001b[1;32m   4582\u001b[0m y \u001b[39m=\u001b[39m np\u001b[39m.\u001b[39mma\u001b[39m.\u001b[39mravel(y)\n\u001b[1;32m   4583\u001b[0m \u001b[39mif\u001b[39;00m x\u001b[39m.\u001b[39msize \u001b[39m!=\u001b[39m y\u001b[39m.\u001b[39msize:\n\u001b[0;32m-> 4584\u001b[0m     \u001b[39mraise\u001b[39;00m \u001b[39mValueError\u001b[39;00m(\u001b[39m\"\u001b[39m\u001b[39mx and y must be the same size\u001b[39m\u001b[39m\"\u001b[39m)\n\u001b[1;32m   4586\u001b[0m \u001b[39mif\u001b[39;00m s \u001b[39mis\u001b[39;00m \u001b[39mNone\u001b[39;00m:\n\u001b[1;32m   4587\u001b[0m     s \u001b[39m=\u001b[39m (\u001b[39m20\u001b[39m \u001b[39mif\u001b[39;00m mpl\u001b[39m.\u001b[39mrcParams[\u001b[39m'\u001b[39m\u001b[39m_internal.classic_mode\u001b[39m\u001b[39m'\u001b[39m] \u001b[39melse\u001b[39;00m\n\u001b[1;32m   4588\u001b[0m          mpl\u001b[39m.\u001b[39mrcParams[\u001b[39m'\u001b[39m\u001b[39mlines.markersize\u001b[39m\u001b[39m'\u001b[39m] \u001b[39m*\u001b[39m\u001b[39m*\u001b[39m \u001b[39m2.0\u001b[39m)\n",
      "\u001b[0;31mValueError\u001b[0m: x and y must be the same size"
     ]
    },
    {
     "data": {
      "image/png": "[encoded data removed]",
      "text/plain": [
       "<Figure size 640x480 with 1 Axes>"
      ]
     },
     "metadata": {},
     "output_type": "display_data"
    }
   ],
   "source": [
    "X_train2, X_test2, y_train2, y_test2 = train_test_split(diabetes_data.data, diabetes_data.target, test_size=0.2)\n",
    "Regressed_data = LinearRegression()\n",
    "Regressed_data.fit(X_train2, y_train2)\n",
    "Predictions = Regressed_data.predict(X_test2)\n",
    "f = plt.figure()\n",
    "plt.scatter(diabetes_data.data, diabetes_data.target, color='blue')\n",
    "plt.plot(X_test2, Predictions, color='red')\n",
    "plt.xlabel('X values')\n",
    "plt.ylabel('Y values')"
   ]
  },
  {
   "cell_type": "code",
   "execution_count": null,
   "metadata": {},
   "outputs": [
    {
     "ename": "NameError",
     "evalue": "name 'plt' is not defined",
     "output_type": "error",
     "traceback": [
      "\u001b[0;31m---------------------------------------------------------------------------\u001b[0m",
      "\u001b[0;31mNameError\u001b[0m                                 Traceback (most recent call last)",
      "Cell \u001b[0;32mIn[1], line 1\u001b[0m\n\u001b[0;32m----> 1\u001b[0m f \u001b[39m=\u001b[39m plt\u001b[39m.\u001b[39mfigure()\n\u001b[1;32m      2\u001b[0m plt\u001b[39m.\u001b[39mscatter(diabetes_data\u001b[39m.\u001b[39mdata, diabetes_data\u001b[39m.\u001b[39mtarget, color\u001b[39m=\u001b[39m\u001b[39m'\u001b[39m\u001b[39mblue\u001b[39m\u001b[39m'\u001b[39m)\n\u001b[1;32m      3\u001b[0m plt\u001b[39m.\u001b[39mplot(X_test2[:, \u001b[39m0\u001b[39m], Predictions[:, \u001b[39m0\u001b[39m], color\u001b[39m=\u001b[39m\u001b[39m'\u001b[39m\u001b[39mred\u001b[39m\u001b[39m'\u001b[39m)\n",
      "\u001b[0;31mNameError\u001b[0m: name 'plt' is not defined"
     ]
    }
   ],
   "source": [
    "f = plt.figure()\n",
    "plt.scatter(diabetes_data.data, diabetes_data.target, color='blue')\n",
    "plt.plot(X_test2[:, 0], Predictions[:, 0], color='red')\n",
    "plt.plot(X_test2[:, 1], Predictions[:, 1], color='green')\n",
    "plt.plot(X_test2[:, 3], Predictions[:, 3], color='black')\n",
    "plt.plot(X_test2[:, 4], Predictions[:, 4], color='yellow')\n",
    "plt.xlabel('X values')\n",
    "plt.ylabel('Y values')\n",
    "print(diabetes_data)"
   ]
  },
  {
   "cell_type": "code",
   "execution_count": null,
   "metadata": {},
   "outputs": [],
   "source": []
  }
 ],
 "metadata": {
  "kernelspec": {
   "display_name": "owkin1",
   "language": "python",
   "name": "python3"
  },
  "language_info": {
   "codemirror_mode": {
    "name": "ipython",
    "version": 3
   },
   "file_extension": ".py",
   "mimetype": "text/x-python",
   "name": "python",
   "nbconvert_exporter": "python",
   "pygments_lexer": "ipython3",
   "version": "3.9.16"
  },
  "orig_nbformat": 4
 },
 "nbformat": 4,
 "nbformat_minor": 2
}
